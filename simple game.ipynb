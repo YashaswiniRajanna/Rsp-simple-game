{
 "cells": [
  {
   "cell_type": "code",
   "execution_count": 2,
   "id": "58d49019",
   "metadata": {},
   "outputs": [
    {
     "name": "stdout",
     "output_type": "stream",
     "text": [
      " choose one:rock<-->paper<-->scissor?rock\n",
      "computer :scissor\n",
      "player :rock\n",
      "you win !\n",
      "yes/no:?yes\n",
      " choose one:rock<-->paper<-->scissor?paper\n",
      "computer :paper\n",
      "player :paper\n",
      "you tie!\n",
      "yes/no:?no\n",
      "bye!\n"
     ]
    }
   ],
   "source": [
    "import random\n",
    "while True:\n",
    "   choices=['rock','paper','scissor']\n",
    "   computer=random.choice(choices)\n",
    "   player=None\n",
    "   while player not in choices:\n",
    "      player=input(\" choose one:rock<-->paper<-->scissor?\").lower()\n",
    "   if player==computer:\n",
    "        print(\"computer :\"+computer)\n",
    "        print(\"player :\"+player)\n",
    "        print(\"you tie!\")\n",
    "   elif computer=='rock':\n",
    "        if player=='scissor':\n",
    "            print(\"computer :\"+computer)\n",
    "            print(\"player :\"+player)\n",
    "            print(\"you lose!\")\n",
    "        elif player=='paper':\n",
    "            print(\"computer :\"+computer)\n",
    "            print(\"player :\"+player)\n",
    "            print(\"you win!\")\n",
    "   elif computer=='paper':\n",
    "        if player=='scissor':\n",
    "            print(\"computer :\"+computer)\n",
    "            print(\"player :\"+player)\n",
    "            print(\"you win !\")\n",
    "        elif player=='rock':\n",
    "            print(\"computer :\"+computer)\n",
    "            print(\"player :\"+player)\n",
    "            print(\"you lose!\")   \n",
    "   elif computer=='scissor':\n",
    "         if player=='rock':\n",
    "              print(\"computer :\"+computer)\n",
    "              print(\"player :\"+player)\n",
    "              print(\"you win !\")\n",
    "         elif player=='paper':\n",
    "              print(\"computer :\"+computer)\n",
    "              print(\"player :\"+player)\n",
    "              print(\"you lose!\") \n",
    "   else:\n",
    "          print(\"invalid option is choose\")\n",
    "        \n",
    "   play_again=input(\"do you want to play again?yes/no:\").lower()\n",
    "   if play_again!='yes':\n",
    "         break\n",
    "print(\"bye!\")"
   ]
  }
 ],
 "metadata": {
  "kernelspec": {
   "display_name": "Python 3",
   "language": "python",
   "name": "python3"
  },
  "language_info": {
   "codemirror_mode": {
    "name": "ipython",
    "version": 3
   },
   "file_extension": ".py",
   "mimetype": "text/x-python",
   "name": "python",
   "nbconvert_exporter": "python",
   "pygments_lexer": "ipython3",
   "version": "3.8.8"
  }
 },
 "nbformat": 4,
 "nbformat_minor": 5
}
